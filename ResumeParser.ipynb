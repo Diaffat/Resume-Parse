{
 "cells": [
  {
   "cell_type": "code",
   "execution_count": 24,
   "id": "5e0a32b4",
   "metadata": {},
   "outputs": [],
   "source": [
    "import spacy \n",
    "import pickle \n",
    "import random\n",
    "import warnings"
   ]
  },
  {
   "cell_type": "code",
   "execution_count": 25,
   "id": "37f6df2c",
   "metadata": {},
   "outputs": [
    {
     "data": {
      "text/plain": [
       "200"
      ]
     },
     "execution_count": 25,
     "metadata": {},
     "output_type": "execute_result"
    }
   ],
   "source": [
    "train_data = pickle.load(open('train_data.pkl', 'rb'))\n",
    "len(train_data)\n"
   ]
  },
  {
   "cell_type": "code",
   "execution_count": 35,
   "id": "90b964a0",
   "metadata": {},
   "outputs": [],
   "source": [
    "nlp = spacy.blank('en')\n",
    "def train_model(train_data): \n",
    "    if \"ner\" not in nlp.pipe_names: \n",
    "        ner = nlp.create_pipe(\"ner\") \n",
    "        nlp.add_pipe(ner, last = True) \n",
    "  \n",
    "    for _, annotation in train_data: \n",
    "        \n",
    "        for ent in annotation['entities']: \n",
    "            ner.add_label(ent[2])\n",
    "            nlp = spacy.blank('en') \n",
    "    other_pipes = [pipe for pipe in nlp.pipe_names if  pipe != 'ner'] \n",
    "    \n",
    "    with nlp.disable_pipes(*other_pipes): # only  train NER \n",
    "        optimizer = nlp.begin_training() \n",
    "            \n",
    "        for itn in range(10): \n",
    "            print(\"Statring iteration \" + str(itn)) \n",
    "            random.shuffle(train_data) \n",
    "            losses = {} \n",
    "            index = 0 \n",
    "        for text, annotations in train_data: \n",
    "            try: \n",
    "                 nlp.update( \n",
    "                 [text], # batch of texts \n",
    "                 [annotations], # batch of  annotations \n",
    "                 drop=0.2, # dropout - make it  harder to memorise data \n",
    "                 sgd=optimizer, # callable to  update weights \n",
    "                 losses=losses) \n",
    "            except Exception as e: \n",
    "                     pass \n",
    "        print(losses)"
   ]
  },
  {
   "cell_type": "code",
   "execution_count": 36,
   "id": "a7a3ca6f",
   "metadata": {},
   "outputs": [
    {
     "ename": "UnboundLocalError",
     "evalue": "local variable 'nlp' referenced before assignment",
     "output_type": "error",
     "traceback": [
      "\u001b[1;31m---------------------------------------------------------------------------\u001b[0m",
      "\u001b[1;31mUnboundLocalError\u001b[0m                         Traceback (most recent call last)",
      "\u001b[1;32m~\\AppData\\Local\\Temp/ipykernel_8392/1782899584.py\u001b[0m in \u001b[0;36m<module>\u001b[1;34m\u001b[0m\n\u001b[1;32m----> 1\u001b[1;33m \u001b[0mtrain_model\u001b[0m\u001b[1;33m(\u001b[0m\u001b[0mtrain_data\u001b[0m\u001b[1;33m)\u001b[0m\u001b[1;33m\u001b[0m\u001b[1;33m\u001b[0m\u001b[0m\n\u001b[0m",
      "\u001b[1;32m~\\AppData\\Local\\Temp/ipykernel_8392/2495948097.py\u001b[0m in \u001b[0;36mtrain_model\u001b[1;34m(train_data)\u001b[0m\n\u001b[0;32m      1\u001b[0m \u001b[0mnlp\u001b[0m \u001b[1;33m=\u001b[0m \u001b[0mspacy\u001b[0m\u001b[1;33m.\u001b[0m\u001b[0mblank\u001b[0m\u001b[1;33m(\u001b[0m\u001b[1;34m'en'\u001b[0m\u001b[1;33m)\u001b[0m\u001b[1;33m\u001b[0m\u001b[1;33m\u001b[0m\u001b[0m\n\u001b[0;32m      2\u001b[0m \u001b[1;32mdef\u001b[0m \u001b[0mtrain_model\u001b[0m\u001b[1;33m(\u001b[0m\u001b[0mtrain_data\u001b[0m\u001b[1;33m)\u001b[0m\u001b[1;33m:\u001b[0m\u001b[1;33m\u001b[0m\u001b[1;33m\u001b[0m\u001b[0m\n\u001b[1;32m----> 3\u001b[1;33m     \u001b[1;32mif\u001b[0m \u001b[1;34m\"ner\"\u001b[0m \u001b[1;32mnot\u001b[0m \u001b[1;32min\u001b[0m \u001b[0mnlp\u001b[0m\u001b[1;33m.\u001b[0m\u001b[0mpipe_names\u001b[0m\u001b[1;33m:\u001b[0m\u001b[1;33m\u001b[0m\u001b[1;33m\u001b[0m\u001b[0m\n\u001b[0m\u001b[0;32m      4\u001b[0m         \u001b[0mner\u001b[0m \u001b[1;33m=\u001b[0m \u001b[0mnlp\u001b[0m\u001b[1;33m.\u001b[0m\u001b[0mcreate_pipe\u001b[0m\u001b[1;33m(\u001b[0m\u001b[1;34m\"ner\"\u001b[0m\u001b[1;33m)\u001b[0m\u001b[1;33m\u001b[0m\u001b[1;33m\u001b[0m\u001b[0m\n\u001b[0;32m      5\u001b[0m         \u001b[0mnlp\u001b[0m\u001b[1;33m.\u001b[0m\u001b[0madd_pipe\u001b[0m\u001b[1;33m(\u001b[0m\u001b[0mner\u001b[0m\u001b[1;33m,\u001b[0m \u001b[0mlast\u001b[0m \u001b[1;33m=\u001b[0m \u001b[1;32mTrue\u001b[0m\u001b[1;33m)\u001b[0m\u001b[1;33m\u001b[0m\u001b[1;33m\u001b[0m\u001b[0m\n",
      "\u001b[1;31mUnboundLocalError\u001b[0m: local variable 'nlp' referenced before assignment"
     ]
    }
   ],
   "source": [
    "train_model(train_data)"
   ]
  },
  {
   "cell_type": "code",
   "execution_count": null,
   "id": "9a6dbd24",
   "metadata": {},
   "outputs": [],
   "source": [
    "nlp.to_disk('nlp_model')\n",
    "\n",
    "nlp_model = spacy.load('nlp_model') \n",
    "\n",
    "train_data[0][0] \n",
    "\n",
    "\n",
    "#result :\n",
    "\n",
    "doc = nlp_model(train_data[0][0]) \n",
    "for ent in doc.ents: \n",
    "    print(f'{ent.label_.upper():{30}}- {ent.text}')"
   ]
  }
 ],
 "metadata": {
  "kernelspec": {
   "display_name": "Python 3 (ipykernel)",
   "language": "python",
   "name": "python3"
  },
  "language_info": {
   "codemirror_mode": {
    "name": "ipython",
    "version": 3
   },
   "file_extension": ".py",
   "mimetype": "text/x-python",
   "name": "python",
   "nbconvert_exporter": "python",
   "pygments_lexer": "ipython3",
   "version": "3.8.5"
  }
 },
 "nbformat": 4,
 "nbformat_minor": 5
}
